{
 "cells": [
  {
   "cell_type": "markdown",
   "metadata": {},
   "source": [
    "<img src=\"./img/vs265header.svg\"/>"
   ]
  },
  {
   "cell_type": "markdown",
   "metadata": {},
   "source": [
    "\n",
    "<h1 align=\"center\">Lab 3 - Unsupervised Learning </h1> \n",
    "<h2 align=\"center\"> Part 2 - Faces </h2>"
   ]
  },
  {
   "cell_type": "code",
   "execution_count": null,
   "metadata": {
    "collapsed": false
   },
   "outputs": [],
   "source": [
    "%pylab inline\n",
    "  \n",
    "import matplotlib.animation as animation\n",
    "import base64\n",
    "\n",
    "import utils.anim as anim\n",
    "import utils.lab3utils as util\n",
    "\n",
    "faces = np.load('./data/yalefaces.npz')['faces'].T"
   ]
  },
  {
   "cell_type": "code",
   "execution_count": null,
   "metadata": {
    "collapsed": true
   },
   "outputs": [],
   "source": [
    "# WINDOWS USERS ONLY:\n",
    "# the animations in this notebook generate small video files stored in the ./utils/ directory\n",
    "# running this cell will clear those files for you.\n",
    "\n",
    "# please run this cell right before turning in your problem set\n",
    "\n",
    "anim.clearFiles()"
   ]
  },
  {
   "cell_type": "markdown",
   "metadata": {
    "collapsed": true
   },
   "source": [
    "## Eigenfaces"
   ]
  },
  {
   "cell_type": "markdown",
   "metadata": {},
   "source": [
    "The file `data/yalefaces.npz` is used in this problem. It contains a 3965x120 array. Each column contains an image of a face. You must reshape the 3965x1 column vector into a 61x65 matrix to make it an image. For example, to view the first 32 faces, run the code in the cell below.\n",
    "\n",
    "**Handy JuPyter Tip**: You can single-click the area to the left of the output to switch between a fixed-size output and a scrolling output. You can also double-click the same area to collapse the output entirely. This is useful for situations like this one where you have an output that takes up a lot of screen real estate."
   ]
  },
  {
   "cell_type": "code",
   "execution_count": null,
   "metadata": {
    "collapsed": false,
    "scrolled": false
   },
   "outputs": [],
   "source": [
    "plt.figure(figsize=(12,20))\n",
    "\n",
    "N = 32 #faces.shape[1] #<- uncomment to see the whole dataset at once\n",
    "\n",
    "numCols = 4\n",
    "numRows = N//numCols+((N%numCols)>0); #compute the grid shape from N\n",
    "\n",
    "for i in range(N):\n",
    "    faceColumn = faces[:,i]\n",
    "    faceImage = util.faceReshape(faceColumn)\n",
    "    \n",
    "    plt.subplot(numRows,numCols,i+1)\n",
    "    \n",
    "    util.facePlot(faceImage)"
   ]
  },
  {
   "cell_type": "markdown",
   "metadata": {},
   "source": [
    "### The Average Face"
   ]
  },
  {
   "cell_type": "markdown",
   "metadata": {},
   "source": [
    "Compute the average face and take a look at it by plotting it with `util.facePlot`. The function `util.faceInitialize` below will subtract this face from the data before running `sangerLearn`. Why do we need to do this? (Hint: check out p201 of Hertz, Krogh, and Palmer)."
   ]
  },
  {
   "cell_type": "code",
   "execution_count": null,
   "metadata": {
    "collapsed": false
   },
   "outputs": [],
   "source": [
    "averageFace = # YOUR CODE HERE\n",
    "util.facePlot(util.faceReshape(averageFace));"
   ]
  },
  {
   "cell_type": "markdown",
   "metadata": {},
   "source": [
    "##### YOUR ANSWER HERE"
   ]
  },
  {
   "cell_type": "markdown",
   "metadata": {},
   "source": [
    "### Sanger's Rule for Faces"
   ]
  },
  {
   "cell_type": "markdown",
   "metadata": {},
   "source": [
    "Use Sanger's Rule to learn the first four (or more if you like) principal components of the data (the so-called \"eigenfaces\"). Show what these look like. You should be able to use the exact same `sangerLearn` code from the first half of the problem set."
   ]
  },
  {
   "cell_type": "code",
   "execution_count": null,
   "metadata": {
    "collapsed": true
   },
   "outputs": [],
   "source": [
    "# copy your sangerLearn function from lab3_1"
   ]
  },
  {
   "cell_type": "code",
   "execution_count": null,
   "metadata": {
    "collapsed": false
   },
   "outputs": [],
   "source": [
    "numOutputs = 4 #how many PCs should we find?\n",
    "\n",
    "learningRate = 1*10**-8 #decrease this value if you get a Warning: converting a masked element to nan.\n",
    "\n",
    "faces, weights, learningRate = util.faceInitialize(faces,numOutputs=numOutputs,learningRate=learningRate)"
   ]
  },
  {
   "cell_type": "code",
   "execution_count": null,
   "metadata": {
    "collapsed": false
   },
   "outputs": [],
   "source": [
    "numSteps = 2500 #needs to be made bigger when numOutputs (i.e. number of PCs to learn) is made bigger\n",
    "\n",
    "for i in range(numSteps):\n",
    "    weights = sangerLearn(faces,weights,learningRate) # this takes awhile!"
   ]
  },
  {
   "cell_type": "code",
   "execution_count": null,
   "metadata": {
    "collapsed": false
   },
   "outputs": [],
   "source": [
    "plt.figure(figsize=(20,6))\n",
    "\n",
    "for i in range(numOutputs):\n",
    "    plt.subplot(2,numOutputs,i+1)\n",
    "    util.facePlot(util.faceReshape(weights[:,i]))\n",
    "    plt.subplot(2,numOutputs,i+1+numOutputs)\n",
    "    util.facePlot(-1*util.faceReshape(weights[:,i]))"
   ]
  },
  {
   "cell_type": "markdown",
   "metadata": {},
   "source": [
    "You can view the axis of variation captured by each of the learned principal components using the code below. Simply change the index in the indicated line to change the eigenface that is animated."
   ]
  },
  {
   "cell_type": "code",
   "execution_count": null,
   "metadata": {
    "collapsed": false
   },
   "outputs": [],
   "source": [
    "numFrames = 300\n",
    "\n",
    "#change the index in the following line:\n",
    "vector,target = util.pickEigenvector(0,weights) #starting at 0\n",
    "\n",
    "normalizingConstant = np.sqrt(np.sum(np.square(averageFace)))\n",
    "\n",
    "figure = plt.figure(); \n",
    "imageHandle = util.facePlot(util.faceReshape(normalizingConstant*vector+averageFace))\n",
    "\n",
    "eigAnim = animation.FuncAnimation(figure, util.eigenFrame, init_func=anim.init,interval=2,\n",
    "                                    fargs=[imageHandle,vector,target,numFrames,averageFace,normalizingConstant], \n",
    "                                    frames=numFrames, \n",
    "                                    )\n",
    "\n",
    "anim.display_animation(eigAnim,fps=75)"
   ]
  },
  {
   "cell_type": "markdown",
   "metadata": {},
   "source": [
    "### Dimensionality Reduction"
   ]
  },
  {
   "cell_type": "markdown",
   "metadata": {},
   "source": [
    "Plot each face as a point in the two-dimensional space spanned by the first two PCs.\n",
    "We obtain the coordinates of those points by projecting the face onto those two PCs.\n",
    "\n",
    "What would this projection look like for Gaussian data? Does the projection for this data look like that? What does this tell you about the data?"
   ]
  },
  {
   "cell_type": "markdown",
   "metadata": {},
   "source": [
    "##### YOUR ANSWER HERE"
   ]
  },
  {
   "cell_type": "code",
   "execution_count": null,
   "metadata": {
    "collapsed": false
   },
   "outputs": [],
   "source": [
    "colorList = ['red','orange','yellow','blue','black','brown','gray',\n",
    "             'skyblue','tomato','mediumspringgreen',\n",
    "            'plum','darkcyan','indigo','darkolivegreen','hotpink']\n",
    "\n",
    "numPoses = 8\n",
    "numFaces = faces.shape[1]\n",
    "numIndividuals = numFaces//numPoses #floor division"
   ]
  },
  {
   "cell_type": "code",
   "execution_count": null,
   "metadata": {
    "collapsed": false
   },
   "outputs": [],
   "source": [
    "plt.figure(figsize=(12,8))\n",
    "\n",
    "projectionVectors = # YOUR CODE HERE\n",
    "\n",
    "for i in range(numIndividuals):\n",
    "    startIndex = i*numPoses; endIndex = startIndex+numPoses\n",
    "    faceColumns = faces[:,startIndex:endIndex]\n",
    "    projection = # YOUR CODE HERE \n",
    "    plt.scatter(projection[0,:],projection[1,:],color=colorList[i])\n",
    "\n",
    "plt.title('Projection of Faces onto the First Two Principal Components')\n",
    "plt.xlabel('PC1 Projection'); plt.ylabel('PC2 Projection');"
   ]
  },
  {
   "cell_type": "markdown",
   "metadata": {},
   "source": [
    "### Reconstruction"
   ]
  },
  {
   "cell_type": "markdown",
   "metadata": {},
   "source": [
    "Pick a face and show what the reconstructions look like as you reconstruct with progressively more principal components. Remember to add back in the mean face before you reconstruct. If the first face you pick doesn't work, try several different faces. If your reconstructions are bad, you might also want to go back and learn more PCs (say, 8)."
   ]
  },
  {
   "cell_type": "code",
   "execution_count": null,
   "metadata": {
    "collapsed": false
   },
   "outputs": [],
   "source": [
    "faceIndex = 102\n",
    "\n",
    "faceColumn = faces[:,faceIndex,None] #keeps column shape\n",
    "\n",
    "maxComponents = weights.shape[1]\n",
    "\n",
    "plt.figure(figsize=(20,4))\n",
    "\n",
    "for i in range(maxComponents):\n",
    "    projectionVectors = # YOUR CODE HERE - same vectors as before, but different set in each iteration\n",
    "    projection = # YOUR CODE HERE - exactly the same as above\n",
    "    \n",
    "    #now, return to the coordinates in the full face-space by \"up-projecting\"\n",
    "    reconstruction = #YOUR CODE HERE - something+averageFace[:,None] \n",
    "    \n",
    "    if maxComponents > 4:\n",
    "        plt.subplot(2,maxComponents//2,i+1)\n",
    "    else:\n",
    "        plt.subplot(1,maxComponents,i+1)\n",
    "    util.facePlot(util.faceReshape(reconstruction))"
   ]
  },
  {
   "cell_type": "markdown",
   "metadata": {},
   "source": [
    "### Winner-Take-All Learning"
   ]
  },
  {
   "cell_type": "markdown",
   "metadata": {},
   "source": [
    "Now train a WTA network on the faces data. You should experiment\n",
    "with different numbers of units. Do the learned weight vectors appear any more\n",
    "meaningful than those learned by PCA?\n",
    "\n",
    "A side note for those familiar with the K-means algorithm: the WTA network learning\n",
    "rule basically performs stochastic gradient descent on the same objective\n",
    "function as K-means. See the discussion on page 222 of Hertz, Krogh, and Palmer."
   ]
  },
  {
   "cell_type": "markdown",
   "metadata": {},
   "source": [
    "##### YOUR ANSWER HERE"
   ]
  },
  {
   "cell_type": "code",
   "execution_count": null,
   "metadata": {
    "collapsed": true
   },
   "outputs": [],
   "source": [
    "# copy your WTALearn function from lab3_1"
   ]
  },
  {
   "cell_type": "code",
   "execution_count": null,
   "metadata": {
    "collapsed": true
   },
   "outputs": [],
   "source": [
    "numOutputs = 15; learningRate = 5*10**0\n",
    "\n",
    "faces, weights, learningRate = util.faceInitialize(faces,numOutputs=numOutputs,learningRate=learningRate)"
   ]
  },
  {
   "cell_type": "code",
   "execution_count": null,
   "metadata": {
    "collapsed": false
   },
   "outputs": [],
   "source": [
    "numSteps = 1000\n",
    "\n",
    "for i in range(numSteps):\n",
    "    weights = WTALearn(faces,weights,learningRate)"
   ]
  },
  {
   "cell_type": "code",
   "execution_count": null,
   "metadata": {
    "collapsed": false
   },
   "outputs": [],
   "source": [
    "plt.figure(figsize=(20,8))\n",
    "\n",
    "normalizingConstant = np.sqrt(np.sum(np.square(averageFace)))\n",
    "\n",
    "for i in range(numOutputs):\n",
    "    if numOutputs >= 8:\n",
    "        plt.subplot(2,numOutputs//2+numOutputs%2,i+1)\n",
    "    else:\n",
    "        plt.subplot(1,numOutputs,i+1)\n",
    "    util.facePlot(util.faceReshape(normalizingConstant*weights[:,i]+averageFace))"
   ]
  }
 ],
 "metadata": {
  "kernelspec": {
   "display_name": "Python 3",
   "language": "python",
   "name": "python3"
  },
  "language_info": {
   "codemirror_mode": {
    "name": "ipython",
    "version": 3
   },
   "file_extension": ".py",
   "mimetype": "text/x-python",
   "name": "python",
   "nbconvert_exporter": "python",
   "pygments_lexer": "ipython3",
   "version": "3.5.2"
  }
 },
 "nbformat": 4,
 "nbformat_minor": 0
}
